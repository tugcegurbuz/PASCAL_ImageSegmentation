{
 "cells": [
  {
   "cell_type": "code",
   "execution_count": 1,
   "metadata": {},
   "outputs": [],
   "source": [
    "import numpy as np\n",
    "import matplotlib.pyplot as plt\n",
    "from skimage.io import imshow\n",
    "from matplotlib.colors import LinearSegmentedColormap\n",
    "\n",
    "\n",
    "def color_map(N=256, normalized=True, matplotlib=True):\n",
    "    def bitget(byteval, idx):\n",
    "        return ((byteval & (1 << idx)) != 0)\n",
    "\n",
    "    dtype = 'float32' if normalized else 'uint8'\n",
    "    cmap = np.zeros((N, 3), dtype=dtype)\n",
    "    for i in range(N):\n",
    "        r = g = b = 0\n",
    "        c = i\n",
    "        for j in range(8):\n",
    "            r = r | (bitget(c, 0) << 7-j)\n",
    "            g = g | (bitget(c, 1) << 7-j)\n",
    "            b = b | (bitget(c, 2) << 7-j)\n",
    "            c = c >> 3\n",
    "\n",
    "        cmap[i] = np.array([r, g, b])\n",
    "\n",
    "    cmap = cmap/255 if normalized else cmap\n",
    "    if matplotlib:\n",
    "        assert(normalized is True)\n",
    "        return LinearSegmentedColormap.from_list('VOClabel_cmap', cmap)\n",
    "    else:\n",
    "        return cmap\n",
    "\n",
    "\n",
    "def color_map_viz():\n",
    "    labels = ['background', 'aeroplane', 'bicycle', 'bird', 'boat',\n",
    "              'bottle', 'bus', 'car', 'cat', 'chair',\n",
    "              'cow', 'diningtable', 'dog', 'horse', 'motorbike',\n",
    "              'person', 'pottedplant', 'sheep', 'sofa', 'train', 'tvmonitor', 'void']\n",
    "    nclasses = 21\n",
    "    row_size = 50\n",
    "    col_size = 500\n",
    "    cmap = color_map()\n",
    "    array = np.empty((row_size*(nclasses+1), col_size, cmap.shape[1]), dtype=cmap.dtype)\n",
    "    for i in range(nclasses):\n",
    "        array[i*row_size:i*row_size+row_size, :] = cmap[i]\n",
    "    array[nclasses*row_size:nclasses*row_size+row_size, :] = cmap[-1]\n",
    "\n",
    "    imshow(array)\n",
    "    plt.yticks([row_size*i+row_size/2 for i in range(nclasses+1)], labels)\n",
    "    plt.xticks([])\n",
    "    plt.show()"
   ]
  },
  {
   "cell_type": "code",
   "execution_count": 2,
   "metadata": {},
   "outputs": [],
   "source": [
    "''' Get class names and part names associated with each class\n",
    "Python implementation based on\n",
    "http://www.stat.ucla.edu/~xianjie.chen/pascal_part_dataset/trainval.tar.gz\n",
    "Define the part index of each objects.\n",
    "One can merge different parts by using the same index for the\n",
    "parts that are desired to be merged.\n",
    "For example, one can merge\n",
    "the left lower leg (llleg) and the left upper leg (luleg) of person by setting:\n",
    "pimap[15]['llleg']      = 19;               # left lower leg\n",
    "pimap[15]['luleg']      = 19;               # left upper leg\n",
    "'''\n",
    "\n",
    "\n",
    "def get_class_names():\n",
    "    classes = {1: 'aeroplane',\n",
    "               2: 'bicycle',\n",
    "               3: 'bird',\n",
    "               4: 'boat',\n",
    "               5: 'bottle',\n",
    "               6: 'bus',\n",
    "               7: 'car',\n",
    "               8: 'cat',\n",
    "               9: 'chair',\n",
    "               10: 'cow',\n",
    "               11: 'table',\n",
    "               12: 'dog',\n",
    "               13: 'horse',\n",
    "               14: 'motorbike',\n",
    "               15: 'person',\n",
    "               16: 'pottedplant',\n",
    "               17: 'sheep',\n",
    "               18: 'sofa',\n",
    "               19: 'train',\n",
    "               20: 'tvmonitor'}\n",
    "    return classes\n",
    "\n",
    "\n",
    "def get_pimap():\n",
    "    pimap = {}\n",
    "\n",
    "    # [aeroplane]\n",
    "    pimap[1] = {}\n",
    "    pimap[1]['body']        = 1\n",
    "    pimap[1]['stern']       = 2\n",
    "    pimap[1]['lwing']       = 3                # left wing\n",
    "    pimap[1]['rwing']       = 4                # right wing\n",
    "    pimap[1]['tail']        = 5\n",
    "    for ii in range(1, 10 + 1):\n",
    "        pimap[1][('engine_%d' % ii)] = 10+ii # multiple engines\n",
    "    for ii in range(1, 10 + 1):\n",
    "        pimap[1][('wheel_%d' % ii)] = 20+ii  # multiple wheels\n",
    "\n",
    "    # [bicycle]\n",
    "    pimap[2] = {}\n",
    "    pimap[2]['fwheel']      = 1                # front wheel\n",
    "    pimap[2]['bwheel']      = 2                # back wheel\n",
    "    pimap[2]['saddle']      = 3\n",
    "    pimap[2]['handlebar']   = 4                # handle bar\n",
    "    pimap[2]['chainwheel']  = 5                # chain wheel\n",
    "    for ii in range(1, 10 + 1):\n",
    "        pimap[2][('headlight_%d' % ii)] = 10 + ii\n",
    "\n",
    "    # [bird]\n",
    "    pimap[3] = {}\n",
    "    pimap[3]['head']        = 1\n",
    "    pimap[3]['leye']        = 2                # left eye\n",
    "    pimap[3]['reye']        = 3                # right eye\n",
    "    pimap[3]['beak']        = 4\n",
    "    pimap[3]['torso']       = 5\n",
    "    pimap[3]['neck']        = 6\n",
    "    pimap[3]['lwing']       = 7                # left wing\n",
    "    pimap[3]['rwing']       = 8                # right wing\n",
    "    pimap[3]['lleg']        = 9                # left leg\n",
    "    pimap[3]['lfoot']       = 10               # left foot\n",
    "    pimap[3]['rleg']        = 11               # right leg\n",
    "    pimap[3]['rfoot']       = 12               # right foot\n",
    "    pimap[3]['tail']        = 13\n",
    "\n",
    "    # [boat]\n",
    "    # only has silhouette mask\n",
    "\n",
    "    # [bottle]\n",
    "    pimap[5] = {}\n",
    "    pimap[5]['cap']         = 1\n",
    "    pimap[5]['body']        = 2\n",
    "\n",
    "    # [bus]\n",
    "    pimap[6] = {}\n",
    "    pimap[6]['frontside']   = 1\n",
    "    pimap[6]['leftside']    = 2\n",
    "    pimap[6]['rightside']   = 3\n",
    "    pimap[6]['backside']    = 4\n",
    "    pimap[6]['roofside']    = 5\n",
    "    pimap[6]['leftmirror']  = 6\n",
    "    pimap[6]['rightmirror'] = 7\n",
    "    pimap[6]['fliplate']    = 8                # front license plate\n",
    "    pimap[6]['bliplate']    = 9                # back license plate\n",
    "    for ii in range(1, 10 + 1):\n",
    "        pimap[6][('door_%d' % ii)] = 10 + ii\n",
    "    for ii in range(1, 10 + 1):\n",
    "        pimap[6][('wheel_%d' % ii)] = 20 + ii\n",
    "    for ii in range(1, 10 + 1):\n",
    "        pimap[6][('headlight_%d' % ii)] = 30 + ii\n",
    "    for ii in range(1, 20 + 1):\n",
    "        pimap[6][('window_%d' % ii)] = 40 + ii\n",
    "\n",
    "    # [car]\n",
    "    pimap[7] = pimap[6].copy()         # car has the same set of parts with bus\n",
    "\n",
    "    # [cat]\n",
    "    pimap[8] = {}\n",
    "    pimap[8]['head']        = 1\n",
    "    pimap[8]['leye']        = 2                # left eye\n",
    "    pimap[8]['reye']        = 3                # right eye\n",
    "    pimap[8]['lear']        = 4                # left ear\n",
    "    pimap[8]['rear']        = 5                # right ear\n",
    "    pimap[8]['nose']        = 6\n",
    "    pimap[8]['torso']       = 7\n",
    "    pimap[8]['neck']        = 8\n",
    "    pimap[8]['lfleg']       = 9                # left front leg\n",
    "    pimap[8]['lfpa']        = 10               # left front paw\n",
    "    pimap[8]['rfleg']       = 11               # right front leg\n",
    "    pimap[8]['rfpa']        = 12               # right front paw\n",
    "    pimap[8]['lbleg']       = 13               # left back leg\n",
    "    pimap[8]['lbpa']        = 14               # left back paw\n",
    "    pimap[8]['rbleg']       = 15               # right back leg\n",
    "    pimap[8]['rbpa']        = 16               # right back paw\n",
    "    pimap[8]['tail']        = 17\n",
    "\n",
    "    # [chair]\n",
    "    # only has sihouette mask\n",
    "\n",
    "    # [cow]\n",
    "    pimap[10] = {}\n",
    "    pimap[10]['head']       = 1\n",
    "    pimap[10]['leye']       = 2                # left eye\n",
    "    pimap[10]['reye']       = 3                # right eye\n",
    "    pimap[10]['lear']       = 4                # left ear\n",
    "    pimap[10]['rear']       = 5                # right ear\n",
    "    pimap[10]['muzzle']     = 6\n",
    "    pimap[10]['lhorn']      = 7                # left horn\n",
    "    pimap[10]['rhorn']      = 8                # right horn\n",
    "    pimap[10]['torso']      = 9\n",
    "    pimap[10]['neck']       = 10\n",
    "    pimap[10]['lfuleg']     = 11               # left front upper leg\n",
    "    pimap[10]['lflleg']     = 12               # left front lower leg\n",
    "    pimap[10]['rfuleg']     = 13               # right front upper leg\n",
    "    pimap[10]['rflleg']     = 14               # right front lower leg\n",
    "    pimap[10]['lbuleg']     = 15               # left back upper leg\n",
    "    pimap[10]['lblleg']     = 16               # left back lower leg\n",
    "    pimap[10]['rbuleg']     = 17               # right back upper leg\n",
    "    pimap[10]['rblleg']     = 18               # right back lower leg\n",
    "    pimap[10]['tail']       = 19\n",
    "\n",
    "    # [table]\n",
    "    # only has silhouette mask\n",
    "\n",
    "    # [dog]\n",
    "    pimap[12] = pimap[8].copy()         \t# dog has the same set of parts with cat,\n",
    "                            \t\t        # except for the additional\n",
    "                        \t\t            # muzzle\n",
    "    pimap[12]['muzzle']     = 20\n",
    "\n",
    "    # [horse]\n",
    "    pimap[13] = pimap[10].copy()        \t# horse has the same set of parts with cow,\n",
    "                                            # except it has hoof instead of horn\n",
    "    del pimap[13]['lhorn']\n",
    "    del pimap[13]['rhorn']\n",
    "    pimap[13]['lfho'] = 30\n",
    "    pimap[13]['rfho'] = 31\n",
    "    pimap[13]['lbho'] = 32\n",
    "    pimap[13]['rbho'] = 33\n",
    "\n",
    "    # [motorbike]\n",
    "    pimap[14] = {}\n",
    "    pimap[14]['fwheel']     = 1\n",
    "    pimap[14]['bwheel']     = 2\n",
    "    pimap[14]['handlebar']  = 3\n",
    "    pimap[14]['saddle']     = 4\n",
    "    for ii in range(1, 10 + 1):\n",
    "        pimap[14][('headlight_%d' % ii)] = 10 + ii\n",
    "\n",
    "    # [person]\n",
    "    pimap[15] = {}\n",
    "    pimap[15]['head']       = 1\n",
    "    pimap[15]['leye']       = 2                    # left eye\n",
    "    pimap[15]['reye']       = 3                    # right eye\n",
    "    pimap[15]['lear']       = 4                    # left ear\n",
    "    pimap[15]['rear']       = 5                    # right ear\n",
    "    pimap[15]['lebrow']     = 6                    # left eyebrow\n",
    "    pimap[15]['rebrow']     = 7                    # right eyebrow\n",
    "    pimap[15]['nose']       = 8\n",
    "    pimap[15]['mouth']      = 9\n",
    "    pimap[15]['hair']       = 10\n",
    "\n",
    "    pimap[15]['torso']      = 11\n",
    "    pimap[15]['neck']       = 12\n",
    "    pimap[15]['llarm']      = 13                   # left lower arm\n",
    "    pimap[15]['luarm']      = 14                   # left upper arm\n",
    "    pimap[15]['lhand']      = 15                   # left hand\n",
    "    pimap[15]['rlarm']      = 16                   # right lower arm\n",
    "    pimap[15]['ruarm']      = 17                   # right upper arm\n",
    "    pimap[15]['rhand']      = 18                   # right hand\n",
    "\n",
    "    pimap[15]['llleg']      = 19               \t# left lower leg\n",
    "    pimap[15]['luleg']      = 20               \t# left upper leg\n",
    "    pimap[15]['lfoot']      = 21               \t# left foot\n",
    "    pimap[15]['rlleg']      = 22               \t# right lower leg\n",
    "    pimap[15]['ruleg']      = 23               \t# right upper leg\n",
    "    pimap[15]['rfoot']      = 24               \t# right foot\n",
    "\n",
    "    # [pottedplant]\n",
    "    pimap[16] = {}\n",
    "    pimap[16]['pot']        = 1\n",
    "    pimap[16]['plant']      = 2\n",
    "\n",
    "    # [sheep]\n",
    "    pimap[17] = pimap[10].copy()        # sheep has the same set of parts with cow\n",
    "\n",
    "    # [sofa]\n",
    "    # only has sihouette mask\n",
    "\n",
    "    # [train]\n",
    "    pimap[19] = {}\n",
    "    pimap[19]['head']       = 1\n",
    "    pimap[19]['hfrontside'] = 2                \t# head front side\n",
    "    pimap[19]['hleftside']  = 3                \t# head left side\n",
    "    pimap[19]['hrightside'] = 4                \t# head right side\n",
    "    pimap[19]['hbackside']  = 5                 # head back side\n",
    "    pimap[19]['hroofside']  = 6                \t# head roof side\n",
    "\n",
    "    for ii in range(1, 10 + 1):\n",
    "        pimap[19][('headlight_%d' % ii)] = 10 + ii\n",
    "\n",
    "    for ii in range(1, 10 + 1):\n",
    "        pimap[19][('coach_%d' % ii)] = 20 + ii\n",
    "\n",
    "    for ii in range(1, 10 + 1):\n",
    "        pimap[19][('cfrontside_%d' % ii)] = 30 + ii   # coach front side\n",
    "\n",
    "    for ii in range(1, 10 + 1):\n",
    "        pimap[19][('cleftside_%d' % ii)] = 40 + ii   # coach left side\n",
    "\n",
    "    for ii in range(1, 10 + 1):\n",
    "        pimap[19][('crightside_%d' % ii)] = 50 + ii  # coach right side\n",
    "\n",
    "    for ii in range(1, 10 + 1):\n",
    "        pimap[19][('cbackside_%d' % ii)] = 60 + ii   # coach back side\n",
    "\n",
    "    for ii in range(1, 10 + 1):\n",
    "        pimap[19][('croofside_%d' % ii)] = 70 + ii   # coach roof side\n",
    "\n",
    "\n",
    "    # [tvmonitor]\n",
    "    pimap[20] = {}\n",
    "    pimap[20]['screen']     = 1\n",
    "\n",
    "    return pimap"
   ]
  },
  {
   "cell_type": "code",
   "execution_count": 3,
   "metadata": {},
   "outputs": [],
   "source": [
    "import numpy as np\n",
    "from scipy.io import loadmat\n",
    "from skimage.io import imread\n",
    "from skimage.measure import regionprops\n",
    "\n",
    "\n",
    "PIMAP = get_pimap()\n",
    "\n",
    "\n",
    "class ImageAnnotation(object):\n",
    "    def __init__(self, impath, annopath):\n",
    "        # read image\n",
    "        self.im = imread(impath)\n",
    "        self.impath = impath\n",
    "        self.imsize = self.im.shape\n",
    "\n",
    "        # read annotations\n",
    "        data = loadmat(annopath)['anno'][0, 0]\n",
    "        self.imname = data['imname'][0]\n",
    "        self.annopath = annopath\n",
    "\n",
    "        # parse objects and parts\n",
    "        self.n_objects = data['objects'].shape[1]\n",
    "        self.objects = []\n",
    "        for obj in data['objects'][0, :]:\n",
    "            self.objects.append(PascalObject(obj))\n",
    "\n",
    "        # create masks for objects and parts\n",
    "        self._mat2map()\n",
    "\n",
    "    def _mat2map(self):\n",
    "        ''' Create masks from the annotations\n",
    "        Python implementation based on\n",
    "        http://www.stat.ucla.edu/~xianjie.chen/pascal_part_dataset/trainval.tar.gz\n",
    "        Read the annotation and present it in terms of 3 segmentation mask maps (\n",
    "        i.e., the class maks, instance maks and part mask). pimap defines a\n",
    "        mapping between part name and index (See part2ind.py).\n",
    "        '''\n",
    "        shape = self.imsize[:-1]  # first two dimensions, ignore color channel\n",
    "        self.cls_mask = np.zeros(shape, dtype=np.uint8)\n",
    "        self.inst_mask = np.zeros(shape, dtype=np.uint8)\n",
    "        self.part_mask = np.zeros(shape, dtype=np.uint8)\n",
    "        \n",
    "        ######Get one part mask\n",
    "        self.one_part_mask = np.zeros(shape, dtype=np.uint8)\n",
    "        ######\n",
    "        \n",
    "        for i, obj in enumerate(self.objects):\n",
    "            class_ind = obj.class_ind\n",
    "            mask = obj.mask\n",
    "\n",
    "            self.inst_mask[mask > 0] = i + 1\n",
    "            self.cls_mask[mask > 0] = class_ind\n",
    "\n",
    "            if obj.n_parts > 0:\n",
    "                for p in obj.parts:\n",
    "                    part_name = p.part_name\n",
    "                    pid = PIMAP[class_ind][part_name]\n",
    "                    self.part_mask[p.mask > 0] = pid\n",
    "                    \n",
    "                    \n",
    "                    #####part mask for head, change it to get other parts\n",
    "                    if part_name == 'rlleg':\n",
    "                      self.one_part_mask[p.mask > 0] = pid\n",
    "                    #####\n",
    "                    \n",
    "\n",
    "\n",
    "class PascalBase(object):\n",
    "    def __init__(self, obj):\n",
    "        self.mask = obj['mask']\n",
    "        self.props = self._get_region_props()\n",
    "\n",
    "    def _get_region_props(self):\n",
    "        ''' useful properties\n",
    "        It includes: area, bbox, bbox_Area, centroid\n",
    "        It can also extract: filled_image, image, intensity_image, local_centroid\n",
    "        '''\n",
    "        return regionprops(self.mask)[0]\n",
    "\n",
    "\n",
    "class PascalObject(PascalBase):\n",
    "    def __init__(self, obj):\n",
    "        super(PascalObject, self).__init__(obj)\n",
    "\n",
    "        self.class_name = obj['class'][0]\n",
    "        self.class_ind = obj['class_ind'][0, 0]\n",
    "\n",
    "        self.n_parts = obj['parts'].shape[1]\n",
    "        self.parts = []\n",
    "        if self.n_parts > 0:\n",
    "            for part in obj['parts'][0, :]:\n",
    "                self.parts.append(PascalPart(part))\n",
    "\n",
    "\n",
    "class PascalPart(PascalBase):\n",
    "    def __init__(self, obj):\n",
    "        super(PascalPart, self).__init__(obj)\n",
    "        self.part_name = obj['part_name'][0]"
   ]
  },
  {
   "cell_type": "code",
   "execution_count": 4,
   "metadata": {},
   "outputs": [],
   "source": [
    "import zipfile as zf\n",
    "data = zf.ZipFile(\"one_human_im.zip\", 'r')\n",
    "data.extractall('./')\n",
    "data.close()"
   ]
  },
  {
   "cell_type": "code",
   "execution_count": 5,
   "metadata": {},
   "outputs": [
    {
     "name": "stdout",
     "output_type": "stream",
     "text": [
      "File Name                                             Modified             Size\n",
      "one_human_im/2010_002526.mat                   2019-08-12 13:45:30        36458\n",
      "one_human_im/2009_001103.mat                   2019-08-12 13:45:12        32043\n",
      "one_human_im/2008_000700.mat                   2019-08-12 13:44:58        20254\n",
      "one_human_im/2008_000652.mat                   2019-08-12 13:44:48         9324\n",
      "one_human_im/2008_000700.jpg                   2019-08-12 13:44:32        51666\n",
      "one_human_im/2008_000652.jpg                   2019-08-12 13:44:28        10047\n",
      "one_human_im/2010_002526.jpg                   2019-08-12 13:44:00        36265\n",
      "one_human_im/2009_001103.jpg                   2019-08-12 13:44:18        26201\n"
     ]
    }
   ],
   "source": [
    "data.printdir()"
   ]
  },
  {
   "cell_type": "code",
   "execution_count": 6,
   "metadata": {},
   "outputs": [
    {
     "data": {
      "text/plain": [
       "['2008_000652.jpg',\n",
       " '2008_000652.mat',\n",
       " '2008_000700.jpg',\n",
       " '2008_000700.mat',\n",
       " '2009_001103.jpg',\n",
       " '2009_001103.mat',\n",
       " '2010_002526.jpg',\n",
       " '2010_002526.mat',\n",
       " 'cropped.jpg',\n",
       " 'cropped_im_1_head.png',\n",
       " 'cropped_im_1_torso.png',\n",
       " 'cropped_im_2_llarm.png',\n",
       " 'cropped_im_2_rhand.png']"
      ]
     },
     "execution_count": 6,
     "metadata": {},
     "output_type": "execute_result"
    }
   ],
   "source": [
    "import os\n",
    "destdir = './one_human_im'\n",
    "\n",
    "files = [ f for f in os.listdir(destdir) if os.path.isfile(os.path.join(destdir,f)) ]\n",
    "\n",
    "files"
   ]
  },
  {
   "cell_type": "code",
   "execution_count": 7,
   "metadata": {},
   "outputs": [],
   "source": [
    "ims = []\n",
    "annos = []\n",
    "for f in files:\n",
    "  if f[-3:] == 'jpg':\n",
    "    ims.append(f)\n",
    "  else:\n",
    "    annos.append(f)"
   ]
  },
  {
   "cell_type": "code",
   "execution_count": 8,
   "metadata": {},
   "outputs": [
    {
     "data": {
      "text/plain": [
       "['2008_000652.jpg',\n",
       " '2008_000700.jpg',\n",
       " '2009_001103.jpg',\n",
       " '2010_002526.jpg',\n",
       " 'cropped.jpg']"
      ]
     },
     "execution_count": 8,
     "metadata": {},
     "output_type": "execute_result"
    }
   ],
   "source": [
    "ims"
   ]
  },
  {
   "cell_type": "code",
   "execution_count": 9,
   "metadata": {},
   "outputs": [
    {
     "data": {
      "text/plain": [
       "['2008_000652.mat',\n",
       " '2008_000700.mat',\n",
       " '2009_001103.mat',\n",
       " '2010_002526.mat',\n",
       " 'cropped_im_1_head.png',\n",
       " 'cropped_im_1_torso.png',\n",
       " 'cropped_im_2_llarm.png',\n",
       " 'cropped_im_2_rhand.png']"
      ]
     },
     "execution_count": 9,
     "metadata": {},
     "output_type": "execute_result"
    }
   ],
   "source": [
    "annos"
   ]
  },
  {
   "cell_type": "code",
   "execution_count": 10,
   "metadata": {},
   "outputs": [
    {
     "name": "stdout",
     "output_type": "stream",
     "text": [
      "C:\\Users\\klab\\Desktop\\one_human_im\n"
     ]
    }
   ],
   "source": [
    "cd ./one_human_im"
   ]
  },
  {
   "cell_type": "code",
   "execution_count": 11,
   "metadata": {},
   "outputs": [
    {
     "data": {
      "image/png": "[encoded data removed]",
      "text/plain": [
       "<Figure size 432x288 with 4 Axes>"
      ]
     },
     "metadata": {
      "needs_background": "light"
     },
     "output_type": "display_data"
    }
   ],
   "source": [
    "import os\n",
    "import numpy as np\n",
    "import matplotlib.pylab as plt\n",
    "from skimage.io import imread\n",
    "\n",
    "fname_anno = annos[0]\n",
    "fname_im = ims[0]\n",
    "\n",
    "an = ImageAnnotation(fname_im, fname_anno)\n",
    "\n",
    "f, ((ax1, ax2), (ax3, ax4)) = plt.subplots(2, 2)\n",
    "ax1.imshow(an.im)\n",
    "ax1.set_title('Image')\n",
    "ax1.axis('off')\n",
    "ax2.imshow(an.cls_mask, cmap=color_map(N=np.max(an.cls_mask) + 1))\n",
    "ax2.set_title('Class mask')\n",
    "ax2.axis('off')\n",
    "ax3.imshow(an.inst_mask, cmap=color_map(N=np.max(an.inst_mask) + 1))\n",
    "ax3.set_title('Instance mask')\n",
    "ax3.axis('off')\n",
    "if np.max(an.part_mask) == 0:\n",
    "    ax4.imshow(an.part_mask, cmap='gray')\n",
    "else:\n",
    "    ax4.imshow(an.part_mask, cmap=color_map(N=np.max(an.part_mask) + 1))\n",
    "ax4.set_title('Part mask')\n",
    "ax4.axis('off')\n",
    "plt.show()"
   ]
  },
  {
   "cell_type": "code",
   "execution_count": 12,
   "metadata": {},
   "outputs": [
    {
     "data": {
      "text/plain": [
       "array([[0, 0, 0, ..., 0, 0, 0],\n",
       "       [0, 0, 0, ..., 0, 0, 0],\n",
       "       [0, 0, 0, ..., 0, 0, 0],\n",
       "       ...,\n",
       "       [0, 0, 0, ..., 0, 0, 0],\n",
       "       [0, 0, 0, ..., 0, 0, 0],\n",
       "       [0, 0, 0, ..., 0, 0, 0]], dtype=uint8)"
      ]
     },
     "execution_count": 12,
     "metadata": {},
     "output_type": "execute_result"
    }
   ],
   "source": [
    "one_mask = an.one_part_mask\n",
    "one_mask"
   ]
  },
  {
   "cell_type": "code",
   "execution_count": 13,
   "metadata": {},
   "outputs": [
    {
     "data": {
      "text/plain": [
       "(213, 320)"
      ]
     },
     "execution_count": 13,
     "metadata": {},
     "output_type": "execute_result"
    }
   ],
   "source": [
    "one_mask.shape"
   ]
  },
  {
   "cell_type": "code",
   "execution_count": 14,
   "metadata": {
    "scrolled": true
   },
   "outputs": [
    {
     "data": {
      "text/plain": [
       "<matplotlib.image.AxesImage at 0xac02898>"
      ]
     },
     "execution_count": 14,
     "metadata": {},
     "output_type": "execute_result"
    },
    {
     "data": {
      "image/png": "[encoded data removed]",
      "text/plain": [
       "<Figure size 432x288 with 1 Axes>"
      ]
     },
     "metadata": {
      "needs_background": "light"
     },
     "output_type": "display_data"
    }
   ],
   "source": [
    "plt.imshow(one_mask, cmap = 'gray')"
   ]
  },
  {
   "cell_type": "code",
   "execution_count": 15,
   "metadata": {},
   "outputs": [
    {
     "data": {
      "text/plain": [
       "array([0, 0, 0, ..., 0, 0, 0], dtype=uint8)"
      ]
     },
     "execution_count": 15,
     "metadata": {},
     "output_type": "execute_result"
    }
   ],
   "source": [
    "one_mask_flat = one_mask.flatten()\n",
    "\n",
    "one_mask_flat"
   ]
  },
  {
   "cell_type": "code",
   "execution_count": 16,
   "metadata": {},
   "outputs": [
    {
     "data": {
      "text/plain": [
       "array([45760, 45761, 45762, 45763, 45764, 46080, 46081, 46082, 46083,\n",
       "       46084, 46085, 46086, 46087, 46088, 46089, 46090, 46091, 46101,\n",
       "       46400, 46401, 46402, 46403, 46404, 46405, 46406, 46407, 46408,\n",
       "       46409, 46410, 46411, 46412, 46413, 46414, 46415, 46416, 46417,\n",
       "       46418, 46419, 46420, 46421, 46720, 46721, 46722, 46723, 46724,\n",
       "       46725, 46726, 46727, 46728, 46729, 46730, 46731, 46732, 46733,\n",
       "       46734, 46735, 46736, 46737, 46738, 46739, 46740, 46741, 47040,\n",
       "       47041, 47042, 47043, 47044, 47045, 47046, 47047, 47048, 47049,\n",
       "       47050, 47051, 47052, 47053, 47054, 47055, 47056, 47057, 47058,\n",
       "       47059, 47060, 47061, 47360, 47361, 47362, 47363, 47364, 47365,\n",
       "       47366, 47367, 47368, 47369, 47370, 47371, 47372, 47373, 47374,\n",
       "       47375, 47376, 47377, 47378, 47379, 47380, 47381, 47680, 47681,\n",
       "       47682, 47683, 47684, 47685, 47686, 47687, 47688, 47689, 47690,\n",
       "       47691, 47692, 47693, 47694, 47695, 47696, 47697, 47698, 47699,\n",
       "       47700, 47701, 48000, 48001, 48002, 48003, 48004, 48005, 48006,\n",
       "       48007, 48008, 48009, 48010, 48011, 48012, 48013, 48014, 48015,\n",
       "       48016, 48017, 48018, 48019, 48020, 48021, 48022, 48320, 48321,\n",
       "       48322, 48323, 48324, 48325, 48326, 48327, 48328, 48329, 48330,\n",
       "       48331, 48332, 48333, 48334, 48335, 48336, 48337, 48338, 48339,\n",
       "       48340, 48341, 48640, 48641, 48642, 48643, 48644, 48645, 48646,\n",
       "       48647, 48648, 48649, 48650, 48651, 48652, 48653, 48654, 48655,\n",
       "       48656, 48657, 48658, 48659, 48660, 48661, 48960, 48961, 48962,\n",
       "       48963, 48964, 48965, 48966, 48967, 48968, 48969, 48970, 48971,\n",
       "       48972, 48973, 48974, 48975, 48976, 48977, 48978, 48979, 48980,\n",
       "       48981, 49280, 49281, 49282, 49283, 49284, 49285, 49286, 49287,\n",
       "       49288, 49289, 49290, 49291, 49292, 49293, 49294, 49295, 49296,\n",
       "       49297, 49298, 49299, 49300, 49301, 49600, 49601, 49602, 49603,\n",
       "       49604, 49605, 49606, 49607, 49608, 49609, 49610, 49611, 49612,\n",
       "       49613, 49614, 49615, 49616, 49617, 49618, 49619, 49620, 49621,\n",
       "       49920, 49921, 49922, 49923, 49924, 49925, 49926, 49927, 49928,\n",
       "       49929, 49930, 49931, 49932, 49933, 49934, 49935, 49936, 49937,\n",
       "       49938, 49939, 49940, 49941, 50240, 50241, 50242, 50243, 50244,\n",
       "       50245, 50246, 50247, 50248, 50249, 50250, 50251, 50252, 50253,\n",
       "       50254, 50255, 50256, 50257, 50258, 50259, 50260, 50261, 50561,\n",
       "       50562, 50563, 50564, 50565, 50566, 50567, 50568, 50569, 50570,\n",
       "       50571, 50572, 50573, 50574, 50575, 50576, 50577, 50578, 50579,\n",
       "       50580, 50581, 50881, 50882, 50883, 50884, 50885, 50886, 50887,\n",
       "       50888, 50889, 50890, 50891, 50892, 50893, 50894, 50895, 50896,\n",
       "       50897, 50898, 50899, 50900, 50901, 51201, 51202, 51203, 51204,\n",
       "       51205, 51206, 51207, 51208, 51209, 51210, 51211, 51212, 51213,\n",
       "       51214, 51215, 51216, 51217, 51218, 51219, 51220, 51221, 51521,\n",
       "       51522, 51523, 51524, 51525, 51526, 51527, 51528, 51529, 51530,\n",
       "       51531, 51532, 51533, 51534, 51535, 51536, 51537, 51538, 51539,\n",
       "       51540, 51541, 51841, 51842, 51843, 51844, 51845, 51846, 51847,\n",
       "       51848, 51849, 51850, 51851, 51852, 51853, 51854, 51855, 51856,\n",
       "       51857, 51858, 51859, 51860, 51861, 52161, 52162, 52163, 52164,\n",
       "       52165, 52166, 52167, 52168, 52169, 52170, 52171, 52172, 52173,\n",
       "       52174, 52175, 52176, 52177, 52178, 52179, 52180, 52181, 52481,\n",
       "       52482, 52483, 52484, 52485, 52486, 52487, 52488, 52489, 52490,\n",
       "       52491, 52492, 52493, 52494, 52495, 52496, 52497, 52498, 52499,\n",
       "       52500, 52501, 52801, 52802, 52803, 52804, 52805, 52806, 52807,\n",
       "       52808, 52809, 52810, 52811, 52812, 52813, 52814, 52815, 52816,\n",
       "       52817, 52818, 52819, 52820, 52821, 53121, 53122, 53123, 53124,\n",
       "       53125, 53126, 53127, 53128, 53129, 53130, 53131, 53132, 53133,\n",
       "       53134, 53135, 53136, 53137, 53138, 53139, 53140, 53441, 53442,\n",
       "       53443, 53444, 53445, 53446, 53447, 53448, 53449, 53450, 53451,\n",
       "       53452, 53453, 53454, 53455, 53456, 53457, 53458, 53459, 53460,\n",
       "       53761, 53762, 53763, 53764, 53765, 53766, 53767, 53768, 53769,\n",
       "       53770, 53771, 53772, 53773, 53774, 53775, 53776, 53777, 53778,\n",
       "       53779, 53780, 54081, 54082, 54083, 54084, 54085, 54086, 54087,\n",
       "       54088, 54089, 54090, 54091, 54092, 54093, 54094, 54095, 54096,\n",
       "       54097, 54098, 54099, 54100, 54401, 54402, 54403, 54404, 54405,\n",
       "       54406, 54407, 54408, 54409, 54410, 54411, 54412, 54413, 54414,\n",
       "       54415, 54416, 54417, 54418, 54419, 54420, 54721, 54722, 54723,\n",
       "       54724, 54725, 54726, 54727, 54728, 54729, 54730, 54731, 54732,\n",
       "       54733, 54734, 54735, 54736, 54737, 54738, 54739, 54740, 55041,\n",
       "       55042, 55043, 55044, 55045, 55046, 55047, 55048, 55049, 55050,\n",
       "       55051, 55052, 55053, 55054, 55055, 55056, 55057, 55058, 55059,\n",
       "       55060, 55361, 55362, 55363, 55364, 55365, 55366, 55367, 55368,\n",
       "       55369, 55370, 55371, 55372, 55373, 55374, 55375, 55376, 55377,\n",
       "       55378, 55379, 55380, 55681, 55682, 55683, 55684, 55685, 55686,\n",
       "       55687, 55688, 55689, 55690, 55691, 55692, 55693, 55694, 55695,\n",
       "       55696, 55697, 55698, 55699, 55700, 56003, 56004, 56005, 56006,\n",
       "       56007, 56008, 56009, 56010, 56011, 56012, 56013, 56014, 56015,\n",
       "       56016, 56017, 56018, 56019, 56020, 56325, 56326, 56327, 56328,\n",
       "       56329, 56330, 56331, 56332, 56333, 56334, 56335, 56336, 56337,\n",
       "       56338, 56339, 56340, 56646, 56647, 56648, 56649, 56650, 56651,\n",
       "       56652, 56653, 56654, 56655, 56656, 56657, 56658, 56659, 56660,\n",
       "       56968, 56969, 56970, 56971, 56972, 56973, 56974, 56975, 56976,\n",
       "       56977, 56978, 56979, 56980, 57289, 57290, 57291, 57292, 57293,\n",
       "       57294, 57295, 57296, 57297, 57298, 57299, 57300, 57620],\n",
       "      dtype=int64)"
      ]
     },
     "execution_count": 16,
     "metadata": {},
     "output_type": "execute_result"
    }
   ],
   "source": [
    "ind_nz = np.flatnonzero(one_mask_flat)\n",
    "\n",
    "ind_nz"
   ]
  },
  {
   "cell_type": "code",
   "execution_count": 17,
   "metadata": {},
   "outputs": [],
   "source": [
    "y_coor = []\n",
    "x_coor = []\n",
    "\n",
    "for x in ind_nz:\n",
    "    y0 = x // 320\n",
    "    x0 = x % 320\n",
    "    \n",
    "    x_coor.append(x0)\n",
    "    y_coor.append(y0)"
   ]
  },
  {
   "cell_type": "code",
   "execution_count": 18,
   "metadata": {},
   "outputs": [
    {
     "name": "stdout",
     "output_type": "stream",
     "text": [
      "Upper left corner coordinates are: 0 , 143\n",
      "Lower right corner coordinates are: 22 , 180\n"
     ]
    }
   ],
   "source": [
    "x1 = min(x_coor)\n",
    "y1 = min(y_coor)\n",
    "\n",
    "x2 = max(x_coor)\n",
    "y2 = max(y_coor)\n",
    "\n",
    "print('Upper left corner coordinates are:' , x1, ',', y1 )\n",
    "print('Lower right corner coordinates are:' , x2, ',', y2 )"
   ]
  },
  {
   "cell_type": "code",
   "execution_count": 19,
   "metadata": {},
   "outputs": [
    {
     "data": {
      "text/plain": [
       "<matplotlib.image.AxesImage at 0xac8bd68>"
      ]
     },
     "execution_count": 19,
     "metadata": {},
     "output_type": "execute_result"
    },
    {
     "data": {
      "image/png": "[encoded data removed]",
      "text/plain": [
       "<Figure size 432x288 with 1 Axes>"
      ]
     },
     "metadata": {
      "needs_background": "light"
     },
     "output_type": "display_data"
    }
   ],
   "source": [
    "from PIL import Image\n",
    "imageObject = Image.open(\"./2008_000652.jpg\")\n",
    "\n",
    "cropped = imageObject.crop((x1,y1,x2,y2))\n",
    "\n",
    "plt.imshow(cropped)"
   ]
  },
  {
   "cell_type": "code",
   "execution_count": null,
   "metadata": {},
   "outputs": [],
   "source": [
    "cropped.save('cropped_im_2.png')"
   ]
  },
  {
   "cell_type": "code",
   "execution_count": null,
   "metadata": {},
   "outputs": [],
   "source": []
  }
 ],
 "metadata": {
  "kernelspec": {
   "display_name": "Python 3",
   "language": "python",
   "name": "python3"
  },
  "language_info": {
   "codemirror_mode": {
    "name": "ipython",
    "version": 3
   },
   "file_extension": ".py",
   "mimetype": "text/x-python",
   "name": "python",
   "nbconvert_exporter": "python",
   "pygments_lexer": "ipython3",
   "version": "3.7.3"
  }
 },
 "nbformat": 4,
 "nbformat_minor": 2
}
